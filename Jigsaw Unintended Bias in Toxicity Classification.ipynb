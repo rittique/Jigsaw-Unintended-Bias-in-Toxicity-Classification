{
 "cells": [
  {
   "cell_type": "markdown",
   "id": "c26e12e2",
   "metadata": {},
   "source": [
    "# jigsaw Unintended Bias in Toxicity Classification\n",
    "\n",
    "## The Question\n",
    "-  #### The main area of focus is a machine learning models that can `identify toxicity in online conversations`, where toxicity is defined as anything `rude`, `disrespectful` or otherwise `likely to make someone leave a discussion`.\n",
    "\n",
    "### Steps to cover\n",
    "- Preprocessing\n",
    "    - Remove special characters or symbols\n",
    "    - Cleaning puntuation and removing numbers\n",
    "    - Convert whole dataset to lowers case\n",
    "    - Remove stop words\n",
    "    - Stemming (Snowball stemmer) \n",
    "- Train-Test data splitting\n",
    "    - Whole document to be transformed into term frequency \n",
    "    - Every unique word would be considered as a freature \n",
    "    - Every word would be evaluated for frequency\n",
    "- Term Frequence data implementation\n",
    "- OvR (Ove-verses-Rest) classification for multiclass and Logisctic Regression for Binary Class classification"
   ]
  },
  {
   "cell_type": "markdown",
   "id": "a971998f",
   "metadata": {},
   "source": [
    "# Importing Libraries"
   ]
  },
  {
   "cell_type": "code",
   "execution_count": 1,
   "id": "45ff621d",
   "metadata": {},
   "outputs": [],
   "source": [
    "import numpy as np\n",
    "import pandas as pd\n",
    "import matplotlib.pyplot as plt\n",
    "import seaborn\n",
    "from bs4 import BeautifulSoup # Text Cleaning\n",
    "import re, string # Regular Expressions, String\n",
    "from nltk.corpus import stopwords # stopwords\n",
    "from nltk.stem.porter import PorterStemmer # for word stemming\n",
    "from nltk.stem import WordNetLemmatizer # for word lemmatization\n",
    "import unicodedata\n",
    "import html"
   ]
  },
  {
   "cell_type": "markdown",
   "id": "11a1785c",
   "metadata": {},
   "source": [
    "# Data Exploration"
   ]
  },
  {
   "cell_type": "code",
   "execution_count": 2,
   "id": "15839aff",
   "metadata": {},
   "outputs": [],
   "source": [
    "train = pd.read_csv('./datasets/train.csv')\n",
    "test = pd.read_csv('./datasets/test.csv')"
   ]
  },
  {
   "cell_type": "code",
   "execution_count": 3,
   "id": "8f593b34",
   "metadata": {},
   "outputs": [
    {
     "data": {
      "text/html": [
       "<div>\n",
       "<style scoped>\n",
       "    .dataframe tbody tr th:only-of-type {\n",
       "        vertical-align: middle;\n",
       "    }\n",
       "\n",
       "    .dataframe tbody tr th {\n",
       "        vertical-align: top;\n",
       "    }\n",
       "\n",
       "    .dataframe thead th {\n",
       "        text-align: right;\n",
       "    }\n",
       "</style>\n",
       "<table border=\"1\" class=\"dataframe\">\n",
       "  <thead>\n",
       "    <tr style=\"text-align: right;\">\n",
       "      <th></th>\n",
       "      <th>id</th>\n",
       "      <th>target</th>\n",
       "      <th>comment_text</th>\n",
       "      <th>severe_toxicity</th>\n",
       "      <th>obscene</th>\n",
       "      <th>identity_attack</th>\n",
       "      <th>insult</th>\n",
       "      <th>threat</th>\n",
       "      <th>asian</th>\n",
       "      <th>atheist</th>\n",
       "      <th>...</th>\n",
       "      <th>article_id</th>\n",
       "      <th>rating</th>\n",
       "      <th>funny</th>\n",
       "      <th>wow</th>\n",
       "      <th>sad</th>\n",
       "      <th>likes</th>\n",
       "      <th>disagree</th>\n",
       "      <th>sexual_explicit</th>\n",
       "      <th>identity_annotator_count</th>\n",
       "      <th>toxicity_annotator_count</th>\n",
       "    </tr>\n",
       "  </thead>\n",
       "  <tbody>\n",
       "    <tr>\n",
       "      <th>0</th>\n",
       "      <td>59848</td>\n",
       "      <td>0.000000</td>\n",
       "      <td>This is so cool. It's like, 'would you want yo...</td>\n",
       "      <td>0.000000</td>\n",
       "      <td>0.0</td>\n",
       "      <td>0.000000</td>\n",
       "      <td>0.00000</td>\n",
       "      <td>0.0</td>\n",
       "      <td>NaN</td>\n",
       "      <td>NaN</td>\n",
       "      <td>...</td>\n",
       "      <td>2006</td>\n",
       "      <td>rejected</td>\n",
       "      <td>0</td>\n",
       "      <td>0</td>\n",
       "      <td>0</td>\n",
       "      <td>0</td>\n",
       "      <td>0</td>\n",
       "      <td>0.0</td>\n",
       "      <td>0</td>\n",
       "      <td>4</td>\n",
       "    </tr>\n",
       "    <tr>\n",
       "      <th>1</th>\n",
       "      <td>59849</td>\n",
       "      <td>0.000000</td>\n",
       "      <td>Thank you!! This would make my life a lot less...</td>\n",
       "      <td>0.000000</td>\n",
       "      <td>0.0</td>\n",
       "      <td>0.000000</td>\n",
       "      <td>0.00000</td>\n",
       "      <td>0.0</td>\n",
       "      <td>NaN</td>\n",
       "      <td>NaN</td>\n",
       "      <td>...</td>\n",
       "      <td>2006</td>\n",
       "      <td>rejected</td>\n",
       "      <td>0</td>\n",
       "      <td>0</td>\n",
       "      <td>0</td>\n",
       "      <td>0</td>\n",
       "      <td>0</td>\n",
       "      <td>0.0</td>\n",
       "      <td>0</td>\n",
       "      <td>4</td>\n",
       "    </tr>\n",
       "    <tr>\n",
       "      <th>2</th>\n",
       "      <td>59852</td>\n",
       "      <td>0.000000</td>\n",
       "      <td>This is such an urgent design problem; kudos t...</td>\n",
       "      <td>0.000000</td>\n",
       "      <td>0.0</td>\n",
       "      <td>0.000000</td>\n",
       "      <td>0.00000</td>\n",
       "      <td>0.0</td>\n",
       "      <td>NaN</td>\n",
       "      <td>NaN</td>\n",
       "      <td>...</td>\n",
       "      <td>2006</td>\n",
       "      <td>rejected</td>\n",
       "      <td>0</td>\n",
       "      <td>0</td>\n",
       "      <td>0</td>\n",
       "      <td>0</td>\n",
       "      <td>0</td>\n",
       "      <td>0.0</td>\n",
       "      <td>0</td>\n",
       "      <td>4</td>\n",
       "    </tr>\n",
       "    <tr>\n",
       "      <th>3</th>\n",
       "      <td>59855</td>\n",
       "      <td>0.000000</td>\n",
       "      <td>Is this something I'll be able to install on m...</td>\n",
       "      <td>0.000000</td>\n",
       "      <td>0.0</td>\n",
       "      <td>0.000000</td>\n",
       "      <td>0.00000</td>\n",
       "      <td>0.0</td>\n",
       "      <td>NaN</td>\n",
       "      <td>NaN</td>\n",
       "      <td>...</td>\n",
       "      <td>2006</td>\n",
       "      <td>rejected</td>\n",
       "      <td>0</td>\n",
       "      <td>0</td>\n",
       "      <td>0</td>\n",
       "      <td>0</td>\n",
       "      <td>0</td>\n",
       "      <td>0.0</td>\n",
       "      <td>0</td>\n",
       "      <td>4</td>\n",
       "    </tr>\n",
       "    <tr>\n",
       "      <th>4</th>\n",
       "      <td>59856</td>\n",
       "      <td>0.893617</td>\n",
       "      <td>haha you guys are a bunch of losers.</td>\n",
       "      <td>0.021277</td>\n",
       "      <td>0.0</td>\n",
       "      <td>0.021277</td>\n",
       "      <td>0.87234</td>\n",
       "      <td>0.0</td>\n",
       "      <td>0.0</td>\n",
       "      <td>0.0</td>\n",
       "      <td>...</td>\n",
       "      <td>2006</td>\n",
       "      <td>rejected</td>\n",
       "      <td>0</td>\n",
       "      <td>0</td>\n",
       "      <td>0</td>\n",
       "      <td>1</td>\n",
       "      <td>0</td>\n",
       "      <td>0.0</td>\n",
       "      <td>4</td>\n",
       "      <td>47</td>\n",
       "    </tr>\n",
       "  </tbody>\n",
       "</table>\n",
       "<p>5 rows × 45 columns</p>\n",
       "</div>"
      ],
      "text/plain": [
       "      id    target                                       comment_text  \\\n",
       "0  59848  0.000000  This is so cool. It's like, 'would you want yo...   \n",
       "1  59849  0.000000  Thank you!! This would make my life a lot less...   \n",
       "2  59852  0.000000  This is such an urgent design problem; kudos t...   \n",
       "3  59855  0.000000  Is this something I'll be able to install on m...   \n",
       "4  59856  0.893617               haha you guys are a bunch of losers.   \n",
       "\n",
       "   severe_toxicity  obscene  identity_attack   insult  threat  asian  atheist  \\\n",
       "0         0.000000      0.0         0.000000  0.00000     0.0    NaN      NaN   \n",
       "1         0.000000      0.0         0.000000  0.00000     0.0    NaN      NaN   \n",
       "2         0.000000      0.0         0.000000  0.00000     0.0    NaN      NaN   \n",
       "3         0.000000      0.0         0.000000  0.00000     0.0    NaN      NaN   \n",
       "4         0.021277      0.0         0.021277  0.87234     0.0    0.0      0.0   \n",
       "\n",
       "   ...  article_id    rating  funny  wow  sad  likes  disagree  \\\n",
       "0  ...        2006  rejected      0    0    0      0         0   \n",
       "1  ...        2006  rejected      0    0    0      0         0   \n",
       "2  ...        2006  rejected      0    0    0      0         0   \n",
       "3  ...        2006  rejected      0    0    0      0         0   \n",
       "4  ...        2006  rejected      0    0    0      1         0   \n",
       "\n",
       "   sexual_explicit  identity_annotator_count  toxicity_annotator_count  \n",
       "0              0.0                         0                         4  \n",
       "1              0.0                         0                         4  \n",
       "2              0.0                         0                         4  \n",
       "3              0.0                         0                         4  \n",
       "4              0.0                         4                        47  \n",
       "\n",
       "[5 rows x 45 columns]"
      ]
     },
     "execution_count": 3,
     "metadata": {},
     "output_type": "execute_result"
    }
   ],
   "source": [
    "train.head(5)"
   ]
  },
  {
   "cell_type": "code",
   "execution_count": 4,
   "id": "472724c7",
   "metadata": {},
   "outputs": [
    {
     "name": "stdout",
     "output_type": "stream",
     "text": [
      "<class 'pandas.core.frame.DataFrame'>\n",
      "RangeIndex: 1804874 entries, 0 to 1804873\n",
      "Data columns (total 45 columns):\n",
      " #   Column                               Dtype  \n",
      "---  ------                               -----  \n",
      " 0   id                                   int64  \n",
      " 1   target                               float64\n",
      " 2   comment_text                         object \n",
      " 3   severe_toxicity                      float64\n",
      " 4   obscene                              float64\n",
      " 5   identity_attack                      float64\n",
      " 6   insult                               float64\n",
      " 7   threat                               float64\n",
      " 8   asian                                float64\n",
      " 9   atheist                              float64\n",
      " 10  bisexual                             float64\n",
      " 11  black                                float64\n",
      " 12  buddhist                             float64\n",
      " 13  christian                            float64\n",
      " 14  female                               float64\n",
      " 15  heterosexual                         float64\n",
      " 16  hindu                                float64\n",
      " 17  homosexual_gay_or_lesbian            float64\n",
      " 18  intellectual_or_learning_disability  float64\n",
      " 19  jewish                               float64\n",
      " 20  latino                               float64\n",
      " 21  male                                 float64\n",
      " 22  muslim                               float64\n",
      " 23  other_disability                     float64\n",
      " 24  other_gender                         float64\n",
      " 25  other_race_or_ethnicity              float64\n",
      " 26  other_religion                       float64\n",
      " 27  other_sexual_orientation             float64\n",
      " 28  physical_disability                  float64\n",
      " 29  psychiatric_or_mental_illness        float64\n",
      " 30  transgender                          float64\n",
      " 31  white                                float64\n",
      " 32  created_date                         object \n",
      " 33  publication_id                       int64  \n",
      " 34  parent_id                            float64\n",
      " 35  article_id                           int64  \n",
      " 36  rating                               object \n",
      " 37  funny                                int64  \n",
      " 38  wow                                  int64  \n",
      " 39  sad                                  int64  \n",
      " 40  likes                                int64  \n",
      " 41  disagree                             int64  \n",
      " 42  sexual_explicit                      float64\n",
      " 43  identity_annotator_count             int64  \n",
      " 44  toxicity_annotator_count             int64  \n",
      "dtypes: float64(32), int64(10), object(3)\n",
      "memory usage: 619.7+ MB\n"
     ]
    }
   ],
   "source": [
    "train.info()"
   ]
  },
  {
   "cell_type": "code",
   "execution_count": 5,
   "id": "851b45f2",
   "metadata": {},
   "outputs": [
    {
     "data": {
      "text/html": [
       "<div>\n",
       "<style scoped>\n",
       "    .dataframe tbody tr th:only-of-type {\n",
       "        vertical-align: middle;\n",
       "    }\n",
       "\n",
       "    .dataframe tbody tr th {\n",
       "        vertical-align: top;\n",
       "    }\n",
       "\n",
       "    .dataframe thead th {\n",
       "        text-align: right;\n",
       "    }\n",
       "</style>\n",
       "<table border=\"1\" class=\"dataframe\">\n",
       "  <thead>\n",
       "    <tr style=\"text-align: right;\">\n",
       "      <th></th>\n",
       "      <th>id</th>\n",
       "      <th>comment_text</th>\n",
       "    </tr>\n",
       "  </thead>\n",
       "  <tbody>\n",
       "    <tr>\n",
       "      <th>0</th>\n",
       "      <td>7097320</td>\n",
       "      <td>[ Integrity means that you pay your debts.]\\n\\...</td>\n",
       "    </tr>\n",
       "    <tr>\n",
       "      <th>1</th>\n",
       "      <td>7097321</td>\n",
       "      <td>This is malfeasance by the Administrator and t...</td>\n",
       "    </tr>\n",
       "    <tr>\n",
       "      <th>2</th>\n",
       "      <td>7097322</td>\n",
       "      <td>@Rmiller101 - Spoken like a true elitist. But ...</td>\n",
       "    </tr>\n",
       "    <tr>\n",
       "      <th>3</th>\n",
       "      <td>7097323</td>\n",
       "      <td>Paul: Thank you for your kind words.  I do, in...</td>\n",
       "    </tr>\n",
       "    <tr>\n",
       "      <th>4</th>\n",
       "      <td>7097324</td>\n",
       "      <td>Sorry you missed high school. Eisenhower sent ...</td>\n",
       "    </tr>\n",
       "  </tbody>\n",
       "</table>\n",
       "</div>"
      ],
      "text/plain": [
       "        id                                       comment_text\n",
       "0  7097320  [ Integrity means that you pay your debts.]\\n\\...\n",
       "1  7097321  This is malfeasance by the Administrator and t...\n",
       "2  7097322  @Rmiller101 - Spoken like a true elitist. But ...\n",
       "3  7097323  Paul: Thank you for your kind words.  I do, in...\n",
       "4  7097324  Sorry you missed high school. Eisenhower sent ..."
      ]
     },
     "execution_count": 5,
     "metadata": {},
     "output_type": "execute_result"
    }
   ],
   "source": [
    "test.head(5)"
   ]
  },
  {
   "cell_type": "code",
   "execution_count": 6,
   "id": "9a1eb0da",
   "metadata": {},
   "outputs": [
    {
     "name": "stdout",
     "output_type": "stream",
     "text": [
      "<class 'pandas.core.frame.DataFrame'>\n",
      "RangeIndex: 97320 entries, 0 to 97319\n",
      "Data columns (total 2 columns):\n",
      " #   Column        Non-Null Count  Dtype \n",
      "---  ------        --------------  ----- \n",
      " 0   id            97320 non-null  int64 \n",
      " 1   comment_text  97320 non-null  object\n",
      "dtypes: int64(1), object(1)\n",
      "memory usage: 1.5+ MB\n"
     ]
    }
   ],
   "source": [
    "test.info()"
   ]
  },
  {
   "cell_type": "code",
   "execution_count": 7,
   "id": "8b1d7132",
   "metadata": {},
   "outputs": [
    {
     "data": {
      "text/plain": [
       "(1804874, 45)"
      ]
     },
     "execution_count": 7,
     "metadata": {},
     "output_type": "execute_result"
    }
   ],
   "source": [
    "train.shape"
   ]
  },
  {
   "cell_type": "code",
   "execution_count": 8,
   "id": "d7b01244",
   "metadata": {},
   "outputs": [
    {
     "data": {
      "text/plain": [
       "(97320, 2)"
      ]
     },
     "execution_count": 8,
     "metadata": {},
     "output_type": "execute_result"
    }
   ],
   "source": [
    "test.shape"
   ]
  },
  {
   "cell_type": "code",
   "execution_count": 9,
   "id": "f5913678",
   "metadata": {},
   "outputs": [
    {
     "name": "stdout",
     "output_type": "stream",
     "text": [
      " \n",
      "show the boolean Dataframe : \n",
      "\n",
      "             id  target  comment_text  severe_toxicity  obscene  \\\n",
      "0        False   False         False            False    False   \n",
      "1        False   False         False            False    False   \n",
      "2        False   False         False            False    False   \n",
      "3        False   False         False            False    False   \n",
      "4        False   False         False            False    False   \n",
      "...        ...     ...           ...              ...      ...   \n",
      "1804869  False   False         False            False    False   \n",
      "1804870  False   False         False            False    False   \n",
      "1804871  False   False         False            False    False   \n",
      "1804872  False   False         False            False    False   \n",
      "1804873  False   False         False            False    False   \n",
      "\n",
      "         identity_attack  insult  threat  asian  atheist  ...  article_id  \\\n",
      "0                  False   False   False   True     True  ...       False   \n",
      "1                  False   False   False   True     True  ...       False   \n",
      "2                  False   False   False   True     True  ...       False   \n",
      "3                  False   False   False   True     True  ...       False   \n",
      "4                  False   False   False  False    False  ...       False   \n",
      "...                  ...     ...     ...    ...      ...  ...         ...   \n",
      "1804869            False   False   False   True     True  ...       False   \n",
      "1804870            False   False   False   True     True  ...       False   \n",
      "1804871            False   False   False   True     True  ...       False   \n",
      "1804872            False   False   False   True     True  ...       False   \n",
      "1804873            False   False   False   True     True  ...       False   \n",
      "\n",
      "         rating  funny    wow    sad  likes  disagree  sexual_explicit  \\\n",
      "0         False  False  False  False  False     False            False   \n",
      "1         False  False  False  False  False     False            False   \n",
      "2         False  False  False  False  False     False            False   \n",
      "3         False  False  False  False  False     False            False   \n",
      "4         False  False  False  False  False     False            False   \n",
      "...         ...    ...    ...    ...    ...       ...              ...   \n",
      "1804869   False  False  False  False  False     False            False   \n",
      "1804870   False  False  False  False  False     False            False   \n",
      "1804871   False  False  False  False  False     False            False   \n",
      "1804872   False  False  False  False  False     False            False   \n",
      "1804873   False  False  False  False  False     False            False   \n",
      "\n",
      "         identity_annotator_count  toxicity_annotator_count  \n",
      "0                           False                     False  \n",
      "1                           False                     False  \n",
      "2                           False                     False  \n",
      "3                           False                     False  \n",
      "4                           False                     False  \n",
      "...                           ...                       ...  \n",
      "1804869                     False                     False  \n",
      "1804870                     False                     False  \n",
      "1804871                     False                     False  \n",
      "1804872                     False                     False  \n",
      "1804873                     False                     False  \n",
      "\n",
      "[1804874 rows x 45 columns]\n",
      " \n",
      "Count total NaN at each column in a DataFrame : \n",
      "\n",
      " id                                           0\n",
      "target                                       0\n",
      "comment_text                                 0\n",
      "severe_toxicity                              0\n",
      "obscene                                      0\n",
      "identity_attack                              0\n",
      "insult                                       0\n",
      "threat                                       0\n",
      "asian                                  1399744\n",
      "atheist                                1399744\n",
      "bisexual                               1399744\n",
      "black                                  1399744\n",
      "buddhist                               1399744\n",
      "christian                              1399744\n",
      "female                                 1399744\n",
      "heterosexual                           1399744\n",
      "hindu                                  1399744\n",
      "homosexual_gay_or_lesbian              1399744\n",
      "intellectual_or_learning_disability    1399744\n",
      "jewish                                 1399744\n",
      "latino                                 1399744\n",
      "male                                   1399744\n",
      "muslim                                 1399744\n",
      "other_disability                       1399744\n",
      "other_gender                           1399744\n",
      "other_race_or_ethnicity                1399744\n",
      "other_religion                         1399744\n",
      "other_sexual_orientation               1399744\n",
      "physical_disability                    1399744\n",
      "psychiatric_or_mental_illness          1399744\n",
      "transgender                            1399744\n",
      "white                                  1399744\n",
      "created_date                                 0\n",
      "publication_id                               0\n",
      "parent_id                               778646\n",
      "article_id                                   0\n",
      "rating                                       0\n",
      "funny                                        0\n",
      "wow                                          0\n",
      "sad                                          0\n",
      "likes                                        0\n",
      "disagree                                     0\n",
      "sexual_explicit                              0\n",
      "identity_annotator_count                     0\n",
      "toxicity_annotator_count                     0\n",
      "dtype: int64\n"
     ]
    }
   ],
   "source": [
    "print(\" \\nshow the boolean Dataframe : \\n\\n\", train.isnull())\n",
    "  \n",
    "print(\" \\nCount total NaN at each column in a DataFrame : \\n\\n\",\n",
    "      train.isnull().sum())"
   ]
  },
  {
   "cell_type": "markdown",
   "id": "f30e57a6",
   "metadata": {},
   "source": [
    "### Target Variable Exploration"
   ]
  },
  {
   "cell_type": "code",
   "execution_count": 10,
   "id": "1269c4ca",
   "metadata": {},
   "outputs": [
    {
     "data": {
      "text/plain": [
       "(array([1266229.,  160959.,  170695.,    5515.,   57142.,   72099.,\n",
       "          26784.,   14620.,   21605.,    9226.]),\n",
       " array([0. , 0.1, 0.2, 0.3, 0.4, 0.5, 0.6, 0.7, 0.8, 0.9, 1. ]),\n",
       " <BarContainer object of 10 artists>)"
      ]
     },
     "execution_count": 10,
     "metadata": {},
     "output_type": "execute_result"
    },
    {
     "data": {
      "image/png": "[encoded data removed]",
      "text/plain": [
       "<Figure size 432x288 with 1 Axes>"
      ]
     },
     "metadata": {
      "needs_background": "light"
     },
     "output_type": "display_data"
    }
   ],
   "source": [
    "plt.hist(train['target'])"
   ]
  },
  {
   "cell_type": "markdown",
   "id": "afdbf9ee",
   "metadata": {},
   "source": [
    "As we have seen from the exploration that the data is not in a state to be feed to the model. Thus, we need to clean the text inorder to use it in the model. Thus, we need to reform and clean the texts."
   ]
  },
  {
   "cell_type": "markdown",
   "id": "1ab6d7f0",
   "metadata": {},
   "source": [
    "### Text cleaning"
   ]
  },
  {
   "cell_type": "code",
   "execution_count": 11,
   "id": "e1d4644e",
   "metadata": {},
   "outputs": [
    {
     "name": "stdout",
     "output_type": "stream",
     "text": [
      "<class 'pandas.core.frame.DataFrame'>\n",
      "Int64Index: 180487 entries, 286892 to 313137\n",
      "Data columns (total 45 columns):\n",
      " #   Column                               Non-Null Count   Dtype  \n",
      "---  ------                               --------------   -----  \n",
      " 0   id                                   180487 non-null  int64  \n",
      " 1   target                               180487 non-null  float64\n",
      " 2   comment_text                         180487 non-null  object \n",
      " 3   severe_toxicity                      180487 non-null  float64\n",
      " 4   obscene                              180487 non-null  float64\n",
      " 5   identity_attack                      180487 non-null  float64\n",
      " 6   insult                               180487 non-null  float64\n",
      " 7   threat                               180487 non-null  float64\n",
      " 8   asian                                40363 non-null   float64\n",
      " 9   atheist                              40363 non-null   float64\n",
      " 10  bisexual                             40363 non-null   float64\n",
      " 11  black                                40363 non-null   float64\n",
      " 12  buddhist                             40363 non-null   float64\n",
      " 13  christian                            40363 non-null   float64\n",
      " 14  female                               40363 non-null   float64\n",
      " 15  heterosexual                         40363 non-null   float64\n",
      " 16  hindu                                40363 non-null   float64\n",
      " 17  homosexual_gay_or_lesbian            40363 non-null   float64\n",
      " 18  intellectual_or_learning_disability  40363 non-null   float64\n",
      " 19  jewish                               40363 non-null   float64\n",
      " 20  latino                               40363 non-null   float64\n",
      " 21  male                                 40363 non-null   float64\n",
      " 22  muslim                               40363 non-null   float64\n",
      " 23  other_disability                     40363 non-null   float64\n",
      " 24  other_gender                         40363 non-null   float64\n",
      " 25  other_race_or_ethnicity              40363 non-null   float64\n",
      " 26  other_religion                       40363 non-null   float64\n",
      " 27  other_sexual_orientation             40363 non-null   float64\n",
      " 28  physical_disability                  40363 non-null   float64\n",
      " 29  psychiatric_or_mental_illness        40363 non-null   float64\n",
      " 30  transgender                          40363 non-null   float64\n",
      " 31  white                                40363 non-null   float64\n",
      " 32  created_date                         180487 non-null  object \n",
      " 33  publication_id                       180487 non-null  int64  \n",
      " 34  parent_id                            102876 non-null  float64\n",
      " 35  article_id                           180487 non-null  int64  \n",
      " 36  rating                               180487 non-null  object \n",
      " 37  funny                                180487 non-null  int64  \n",
      " 38  wow                                  180487 non-null  int64  \n",
      " 39  sad                                  180487 non-null  int64  \n",
      " 40  likes                                180487 non-null  int64  \n",
      " 41  disagree                             180487 non-null  int64  \n",
      " 42  sexual_explicit                      180487 non-null  float64\n",
      " 43  identity_annotator_count             180487 non-null  int64  \n",
      " 44  toxicity_annotator_count             180487 non-null  int64  \n",
      "dtypes: float64(32), int64(10), object(3)\n",
      "memory usage: 63.3+ MB\n"
     ]
    }
   ],
   "source": [
    "# Taking samples from the training dataset\n",
    "\n",
    "train_sample = train.sample(frac = 0.1, random_state = 42, axis = 'index')\n",
    "train_sample.info()"
   ]
  },
  {
   "cell_type": "code",
   "execution_count": 12,
   "id": "8439b14e",
   "metadata": {},
   "outputs": [],
   "source": [
    "# Creating a cleaning function\n",
    "\n",
    "# set of stopwords to be removed from text\n",
    "stop = set(stopwords.words('english'))\n",
    "\n",
    "# update stopwords to have punctuation too\n",
    "stop.update(list(string.punctuation))\n",
    "\n",
    "def clean_text(text):\n",
    "    \n",
    "    # Remove unwanted html characters\n",
    "    re1 = re.compile(r'  +')\n",
    "    x1 = text.lower().replace('#39;', \"'\").replace('amp;', '&').replace('#146;', \"'\").replace(\n",
    "    'nbsp;', ' ').replace('#36;', '$').replace('\\\\n', \"\\n\").replace('quot;', \"'\").replace(\n",
    "    '<br />', \"\\n\").replace('\\\\\"', '\"').replace('<unk>', 'u_n').replace(' @.@ ', '.').replace(\n",
    "    ' @-@ ', '-').replace('\\\\', ' \\\\ ')\n",
    "    text = re1.sub(' ', html.unescape(x1))\n",
    "    \n",
    "    # remove non-ascii characters\n",
    "    text = unicodedata.normalize('NFKD', text).encode('ascii', 'ignore').decode('utf-8', 'ignore')\n",
    "    \n",
    "    #     # strip html\n",
    "    #     soup = BeautifulSoup(text, 'html.parser')\n",
    "    #     text = soup.get_text()\n",
    "    \n",
    "    # remove between square brackets\n",
    "    text = re.sub('\\[[^]]*\\]', '', text)\n",
    "    \n",
    "    # remove URLs\n",
    "    text = re.sub(r'http\\S+', '', text)\n",
    "    \n",
    "    # remove twitter tags\n",
    "    text = text.replace(\"@\", \"\")\n",
    "    \n",
    "    # remove hashtags\n",
    "    text = text.replace(\"#\", \"\")\n",
    "    \n",
    "    # remove all non-alphabetic characters\n",
    "    text = re.sub(r'[^a-zA-Z ]', '', text)\n",
    "    \n",
    "    # remove stopwords from text\n",
    "    final_text = []\n",
    "    for word in text.split():\n",
    "        if word.strip().lower() not in stop:\n",
    "            final_text.append(word.strip().lower())\n",
    "    \n",
    "    text = \" \".join(final_text)\n",
    "    \n",
    "    # lemmatize words\n",
    "    lemmatizer = WordNetLemmatizer()    \n",
    "    text = \" \".join([lemmatizer.lemmatize(word) for word in text.split()])\n",
    "    text = \" \".join([lemmatizer.lemmatize(word, pos = 'v') for word in text.split()])\n",
    "    \n",
    "    # replace all numbers with \"num\"\n",
    "    text = re.sub(\"\\d\", \"num\", text)\n",
    "    \n",
    "    return text.lower()"
   ]
  },
  {
   "cell_type": "code",
   "execution_count": 13,
   "id": "f0669317",
   "metadata": {},
   "outputs": [],
   "source": [
    "train_sample['clean_comment_text'] = train_sample['comment_text'].apply(clean_text)\n",
    "test['clean_comment_text'] = test['comment_text'].apply(clean_text)"
   ]
  },
  {
   "cell_type": "code",
   "execution_count": 14,
   "id": "673fe500",
   "metadata": {},
   "outputs": [
    {
     "data": {
      "text/plain": [
       "286892     breathe fresh air someone embrace common sense...\n",
       "419218     jewish friend one tell zionist control canadav...\n",
       "1055330    possible collusion trump affiliate debunk stat...\n",
       "1382764    exactly need gdp spend cap federal level would...\n",
       "256049     comment even vote ndp pq trudeau demonstrably ...\n",
       "Name: clean_comment_text, dtype: object"
      ]
     },
     "execution_count": 14,
     "metadata": {},
     "output_type": "execute_result"
    }
   ],
   "source": [
    "train_sample['clean_comment_text'].head(5)"
   ]
  },
  {
   "cell_type": "code",
   "execution_count": 15,
   "id": "1173865a",
   "metadata": {},
   "outputs": [
    {
     "data": {
      "text/plain": [
       "0                                apply president trump\n",
       "1          malfeasance administrator board waste money\n",
       "2    rmiller speak like true elitist look bud reawa...\n",
       "3    paul thank kind word indeed strong belief dont...\n",
       "4    sorry miss high school eisenhower send troop v...\n",
       "Name: clean_comment_text, dtype: object"
      ]
     },
     "execution_count": 15,
     "metadata": {},
     "output_type": "execute_result"
    }
   ],
   "source": [
    "test['clean_comment_text'].head(5)"
   ]
  },
  {
   "cell_type": "code",
   "execution_count": 16,
   "id": "192a5a28",
   "metadata": {},
   "outputs": [
    {
     "data": {
      "text/html": [
       "<div>\n",
       "<style scoped>\n",
       "    .dataframe tbody tr th:only-of-type {\n",
       "        vertical-align: middle;\n",
       "    }\n",
       "\n",
       "    .dataframe tbody tr th {\n",
       "        vertical-align: top;\n",
       "    }\n",
       "\n",
       "    .dataframe thead th {\n",
       "        text-align: right;\n",
       "    }\n",
       "</style>\n",
       "<table border=\"1\" class=\"dataframe\">\n",
       "  <thead>\n",
       "    <tr style=\"text-align: right;\">\n",
       "      <th></th>\n",
       "      <th>id</th>\n",
       "      <th>target</th>\n",
       "      <th>comment_text</th>\n",
       "      <th>severe_toxicity</th>\n",
       "      <th>obscene</th>\n",
       "      <th>identity_attack</th>\n",
       "      <th>insult</th>\n",
       "      <th>threat</th>\n",
       "      <th>asian</th>\n",
       "      <th>atheist</th>\n",
       "      <th>...</th>\n",
       "      <th>article_id</th>\n",
       "      <th>rating</th>\n",
       "      <th>funny</th>\n",
       "      <th>wow</th>\n",
       "      <th>sad</th>\n",
       "      <th>likes</th>\n",
       "      <th>disagree</th>\n",
       "      <th>sexual_explicit</th>\n",
       "      <th>identity_annotator_count</th>\n",
       "      <th>toxicity_annotator_count</th>\n",
       "    </tr>\n",
       "  </thead>\n",
       "  <tbody>\n",
       "    <tr>\n",
       "      <th>0</th>\n",
       "      <td>59848</td>\n",
       "      <td>0.000000</td>\n",
       "      <td>This is so cool. It's like, 'would you want yo...</td>\n",
       "      <td>0.000000</td>\n",
       "      <td>0.0</td>\n",
       "      <td>0.000000</td>\n",
       "      <td>0.00000</td>\n",
       "      <td>0.0</td>\n",
       "      <td>NaN</td>\n",
       "      <td>NaN</td>\n",
       "      <td>...</td>\n",
       "      <td>2006</td>\n",
       "      <td>rejected</td>\n",
       "      <td>0</td>\n",
       "      <td>0</td>\n",
       "      <td>0</td>\n",
       "      <td>0</td>\n",
       "      <td>0</td>\n",
       "      <td>0.0</td>\n",
       "      <td>0</td>\n",
       "      <td>4</td>\n",
       "    </tr>\n",
       "    <tr>\n",
       "      <th>1</th>\n",
       "      <td>59849</td>\n",
       "      <td>0.000000</td>\n",
       "      <td>Thank you!! This would make my life a lot less...</td>\n",
       "      <td>0.000000</td>\n",
       "      <td>0.0</td>\n",
       "      <td>0.000000</td>\n",
       "      <td>0.00000</td>\n",
       "      <td>0.0</td>\n",
       "      <td>NaN</td>\n",
       "      <td>NaN</td>\n",
       "      <td>...</td>\n",
       "      <td>2006</td>\n",
       "      <td>rejected</td>\n",
       "      <td>0</td>\n",
       "      <td>0</td>\n",
       "      <td>0</td>\n",
       "      <td>0</td>\n",
       "      <td>0</td>\n",
       "      <td>0.0</td>\n",
       "      <td>0</td>\n",
       "      <td>4</td>\n",
       "    </tr>\n",
       "    <tr>\n",
       "      <th>2</th>\n",
       "      <td>59852</td>\n",
       "      <td>0.000000</td>\n",
       "      <td>This is such an urgent design problem; kudos t...</td>\n",
       "      <td>0.000000</td>\n",
       "      <td>0.0</td>\n",
       "      <td>0.000000</td>\n",
       "      <td>0.00000</td>\n",
       "      <td>0.0</td>\n",
       "      <td>NaN</td>\n",
       "      <td>NaN</td>\n",
       "      <td>...</td>\n",
       "      <td>2006</td>\n",
       "      <td>rejected</td>\n",
       "      <td>0</td>\n",
       "      <td>0</td>\n",
       "      <td>0</td>\n",
       "      <td>0</td>\n",
       "      <td>0</td>\n",
       "      <td>0.0</td>\n",
       "      <td>0</td>\n",
       "      <td>4</td>\n",
       "    </tr>\n",
       "    <tr>\n",
       "      <th>3</th>\n",
       "      <td>59855</td>\n",
       "      <td>0.000000</td>\n",
       "      <td>Is this something I'll be able to install on m...</td>\n",
       "      <td>0.000000</td>\n",
       "      <td>0.0</td>\n",
       "      <td>0.000000</td>\n",
       "      <td>0.00000</td>\n",
       "      <td>0.0</td>\n",
       "      <td>NaN</td>\n",
       "      <td>NaN</td>\n",
       "      <td>...</td>\n",
       "      <td>2006</td>\n",
       "      <td>rejected</td>\n",
       "      <td>0</td>\n",
       "      <td>0</td>\n",
       "      <td>0</td>\n",
       "      <td>0</td>\n",
       "      <td>0</td>\n",
       "      <td>0.0</td>\n",
       "      <td>0</td>\n",
       "      <td>4</td>\n",
       "    </tr>\n",
       "    <tr>\n",
       "      <th>4</th>\n",
       "      <td>59856</td>\n",
       "      <td>0.893617</td>\n",
       "      <td>haha you guys are a bunch of losers.</td>\n",
       "      <td>0.021277</td>\n",
       "      <td>0.0</td>\n",
       "      <td>0.021277</td>\n",
       "      <td>0.87234</td>\n",
       "      <td>0.0</td>\n",
       "      <td>0.0</td>\n",
       "      <td>0.0</td>\n",
       "      <td>...</td>\n",
       "      <td>2006</td>\n",
       "      <td>rejected</td>\n",
       "      <td>0</td>\n",
       "      <td>0</td>\n",
       "      <td>0</td>\n",
       "      <td>1</td>\n",
       "      <td>0</td>\n",
       "      <td>0.0</td>\n",
       "      <td>4</td>\n",
       "      <td>47</td>\n",
       "    </tr>\n",
       "  </tbody>\n",
       "</table>\n",
       "<p>5 rows × 45 columns</p>\n",
       "</div>"
      ],
      "text/plain": [
       "      id    target                                       comment_text  \\\n",
       "0  59848  0.000000  This is so cool. It's like, 'would you want yo...   \n",
       "1  59849  0.000000  Thank you!! This would make my life a lot less...   \n",
       "2  59852  0.000000  This is such an urgent design problem; kudos t...   \n",
       "3  59855  0.000000  Is this something I'll be able to install on m...   \n",
       "4  59856  0.893617               haha you guys are a bunch of losers.   \n",
       "\n",
       "   severe_toxicity  obscene  identity_attack   insult  threat  asian  atheist  \\\n",
       "0         0.000000      0.0         0.000000  0.00000     0.0    NaN      NaN   \n",
       "1         0.000000      0.0         0.000000  0.00000     0.0    NaN      NaN   \n",
       "2         0.000000      0.0         0.000000  0.00000     0.0    NaN      NaN   \n",
       "3         0.000000      0.0         0.000000  0.00000     0.0    NaN      NaN   \n",
       "4         0.021277      0.0         0.021277  0.87234     0.0    0.0      0.0   \n",
       "\n",
       "   ...  article_id    rating  funny  wow  sad  likes  disagree  \\\n",
       "0  ...        2006  rejected      0    0    0      0         0   \n",
       "1  ...        2006  rejected      0    0    0      0         0   \n",
       "2  ...        2006  rejected      0    0    0      0         0   \n",
       "3  ...        2006  rejected      0    0    0      0         0   \n",
       "4  ...        2006  rejected      0    0    0      1         0   \n",
       "\n",
       "   sexual_explicit  identity_annotator_count  toxicity_annotator_count  \n",
       "0              0.0                         0                         4  \n",
       "1              0.0                         0                         4  \n",
       "2              0.0                         0                         4  \n",
       "3              0.0                         0                         4  \n",
       "4              0.0                         4                        47  \n",
       "\n",
       "[5 rows x 45 columns]"
      ]
     },
     "execution_count": 16,
     "metadata": {},
     "output_type": "execute_result"
    }
   ],
   "source": [
    "train.head(5)"
   ]
  },
  {
   "cell_type": "code",
   "execution_count": 17,
   "id": "e1e9c61b",
   "metadata": {},
   "outputs": [
    {
     "data": {
      "text/plain": [
       "(array([7.5362e+04, 4.6336e+04, 2.3774e+04, 1.3150e+04, 8.4700e+03,\n",
       "        9.7790e+03, 3.5290e+03, 8.5000e+01, 0.0000e+00, 2.0000e+00]),\n",
       " array([  0. ,  14.9,  29.8,  44.7,  59.6,  74.5,  89.4, 104.3, 119.2,\n",
       "        134.1, 149. ]),\n",
       " <BarContainer object of 10 artists>)"
      ]
     },
     "execution_count": 17,
     "metadata": {},
     "output_type": "execute_result"
    },
    {
     "data": {
      "image/png": "[encoded data removed]",
      "text/plain": [
       "<Figure size 432x288 with 1 Axes>"
      ]
     },
     "metadata": {
      "needs_background": "light"
     },
     "output_type": "display_data"
    }
   ],
   "source": [
    "plt.hist(list(train_sample['clean_comment_text'].str.split().map(lambda x: len(x))))"
   ]
  },
  {
   "cell_type": "code",
   "execution_count": 32,
   "id": "395fc42a",
   "metadata": {},
   "outputs": [
    {
     "name": "stdout",
     "output_type": "stream",
     "text": [
      "286892     breathe fresh air someone embrace common sense...\n",
      "419218     jewish friend one tell zionist control canadav...\n",
      "1055330    possible collusion trump affiliate debunk stat...\n",
      "1382764    exactly need gdp spend cap federal level would...\n",
      "256049     comment even vote ndp pq trudeau demonstrably ...\n",
      "                                 ...                        \n",
      "1654493    thank rebecca need tell entire story instead f...\n",
      "1469254    deflection work sjsj fact feel need try divers...\n",
      "236950     come afn dont keep fall political hat trick mu...\n",
      "98687                                       larson vigilante\n",
      "313137     dont believe youre trump supporter ive read nu...\n",
      "Name: clean_comment_text, Length: 180487, dtype: object\n"
     ]
    }
   ],
   "source": [
    "print(train_sample['clean_comment_text'])"
   ]
  },
  {
   "cell_type": "code",
   "execution_count": 18,
   "id": "4cabe726",
   "metadata": {},
   "outputs": [
    {
     "data": {
      "text/plain": [
       "18.0"
      ]
     },
     "execution_count": 18,
     "metadata": {},
     "output_type": "execute_result"
    }
   ],
   "source": [
    "np.median(np.array(train_sample['clean_comment_text'].str.split().map(lambda x: len(x))))"
   ]
  },
  {
   "cell_type": "markdown",
   "id": "d3c01439",
   "metadata": {},
   "source": [
    "# Text Tokenization as Sequences"
   ]
  },
  {
   "cell_type": "code",
   "execution_count": 19,
   "id": "c3085889",
   "metadata": {},
   "outputs": [
    {
     "name": "stdout",
     "output_type": "stream",
     "text": [
      "X_train shape: (180487, 18)\n",
      "X_test shape: (97320, 18)\n",
      "y_train shape: (180487,)\n"
     ]
    }
   ],
   "source": [
    "# Sequences creation, truncation and padding\n",
    "\n",
    "from keras.preprocessing.text import Tokenizer\n",
    "from keras.preprocessing.sequence import pad_sequences\n",
    "\n",
    "# Setting up the tokenizer\n",
    "vocab_size = 10000\n",
    "tokenizer = Tokenizer(num_words = vocab_size, oov_token = 'UNK')\n",
    "tokenizer.fit_on_texts(list(train_sample['clean_comment_text']) + list(test['comment_text']))\n",
    "\n",
    "max_len = 18\n",
    "X_train_seq = tokenizer.texts_to_sequences(train_sample['clean_comment_text'])\n",
    "X_test_seq = tokenizer.texts_to_sequences(test['comment_text'])\n",
    "\n",
    "X_train_seq = pad_sequences(X_train_seq, maxlen = max_len, truncating = 'post', padding = 'post')\n",
    "X_test_seq = pad_sequences(X_test_seq, maxlen = max_len, truncating = 'post', padding = 'post')\n",
    "y_train = np.array(train_sample['target']).astype(int)\n",
    "\n",
    "print(f\"X_train shape: {X_train_seq.shape}\")\n",
    "print(f\"X_test shape: {X_test_seq.shape}\")\n",
    "print(f\"y_train shape: {y_train.shape}\")"
   ]
  },
  {
   "cell_type": "code",
   "execution_count": 34,
   "id": "4390dfeb",
   "metadata": {},
   "outputs": [
    {
     "data": {
      "text/plain": [
       "array([[2515, 1877, 1304, ..., 1063, 3377, 3340],\n",
       "       [  61,  215,  129, ...,  553, 4848, 2859],\n",
       "       [ 161,  298, 2309, ...,  692,  136,    1],\n",
       "       ...,\n",
       "       [ 839,  294, 2436, ...,    0,    0,    0],\n",
       "       [   1,  412,  389, ...,  128,  309,  328],\n",
       "       [  32, 2469, 5576, ...,   15, 2477,   15]])"
      ]
     },
     "execution_count": 34,
     "metadata": {},
     "output_type": "execute_result"
    }
   ],
   "source": [
    "X_train_seq"
   ]
  },
  {
   "cell_type": "code",
   "execution_count": 35,
   "id": "78d2bd0c",
   "metadata": {},
   "outputs": [
    {
     "data": {
      "text/plain": [
       "array([[1863,  953,    9, ...,    0,    0,    0],\n",
       "       [  25,    7, 8486, ...,    0,    0,    0],\n",
       "       [   1, 5514,   19, ..., 3614,    4,  166],\n",
       "       ...,\n",
       "       [  12,  259,   11, ...,    0,    0,    0],\n",
       "       [ 330, 1311, 9408, ..., 1050,    8,    2],\n",
       "       [  12,   96,  441, ...,  936, 9128, 9450]])"
      ]
     },
     "execution_count": 35,
     "metadata": {},
     "output_type": "execute_result"
    }
   ],
   "source": [
    "X_test_seq"
   ]
  },
  {
   "cell_type": "code",
   "execution_count": 20,
   "id": "3e3130d4",
   "metadata": {},
   "outputs": [
    {
     "name": "stdout",
     "output_type": "stream",
     "text": [
      "X_train shape: (144389, 18)\n",
      "X_val shape: (36098, 18)\n",
      "y_train shape: (144389,)\n",
      "y_val shape: (36098,)\n"
     ]
    }
   ],
   "source": [
    "from sklearn.model_selection import train_test_split\n",
    "\n",
    "X_train_seq, X_val_seq, y_train, y_val = train_test_split(X_train_seq, y_train, test_size = 0.2, random_state = 42)\n",
    "\n",
    "print(f\"X_train shape: {X_train_seq.shape}\")\n",
    "print(f\"X_val shape: {X_val_seq.shape}\")\n",
    "print(f\"y_train shape: {y_train.shape}\")\n",
    "print(f\"y_val shape: {y_val.shape}\")"
   ]
  },
  {
   "cell_type": "code",
   "execution_count": 21,
   "id": "8bf813a7",
   "metadata": {},
   "outputs": [
    {
     "name": "stdout",
     "output_type": "stream",
     "text": [
      "Number of unique words: 221564\n"
     ]
    }
   ],
   "source": [
    "num_words = len(tokenizer.word_index)\n",
    "print(f\"Number of unique words: {num_words}\")"
   ]
  },
  {
   "cell_type": "code",
   "execution_count": 22,
   "id": "b52fb059",
   "metadata": {},
   "outputs": [
    {
     "ename": "NameError",
     "evalue": "name 'embedding_dict' is not defined",
     "output_type": "error",
     "traceback": [
      "\u001b[1;31m---------------------------------------------------------------------------\u001b[0m",
      "\u001b[1;31mNameError\u001b[0m                                 Traceback (most recent call last)",
      "\u001b[1;32m<ipython-input-22-b8036728a72f>\u001b[0m in \u001b[0;36m<module>\u001b[1;34m\u001b[0m\n\u001b[0;32m      5\u001b[0m \u001b[1;32mfor\u001b[0m \u001b[0mword\u001b[0m\u001b[1;33m,\u001b[0m\u001b[0mi\u001b[0m \u001b[1;32min\u001b[0m \u001b[0mtokenizer\u001b[0m\u001b[1;33m.\u001b[0m\u001b[0mword_index\u001b[0m\u001b[1;33m.\u001b[0m\u001b[0mitems\u001b[0m\u001b[1;33m(\u001b[0m\u001b[1;33m)\u001b[0m\u001b[1;33m:\u001b[0m\u001b[1;33m\u001b[0m\u001b[1;33m\u001b[0m\u001b[0m\n\u001b[0;32m      6\u001b[0m     \u001b[1;32mif\u001b[0m \u001b[0mi\u001b[0m \u001b[1;33m<\u001b[0m \u001b[0mnum_words\u001b[0m\u001b[1;33m:\u001b[0m\u001b[1;33m\u001b[0m\u001b[1;33m\u001b[0m\u001b[0m\n\u001b[1;32m----> 7\u001b[1;33m         \u001b[0memb_vec\u001b[0m \u001b[1;33m=\u001b[0m \u001b[0membedding_dict\u001b[0m\u001b[1;33m.\u001b[0m\u001b[0mget\u001b[0m\u001b[1;33m(\u001b[0m\u001b[0mword\u001b[0m\u001b[1;33m)\u001b[0m\u001b[1;33m\u001b[0m\u001b[1;33m\u001b[0m\u001b[0m\n\u001b[0m\u001b[0;32m      8\u001b[0m         \u001b[1;32mif\u001b[0m \u001b[0memb_vec\u001b[0m \u001b[1;32mis\u001b[0m \u001b[1;32mnot\u001b[0m \u001b[1;32mNone\u001b[0m\u001b[1;33m:\u001b[0m\u001b[1;33m\u001b[0m\u001b[1;33m\u001b[0m\u001b[0m\n\u001b[0;32m      9\u001b[0m             \u001b[0membedding_matrix\u001b[0m\u001b[1;33m[\u001b[0m\u001b[0mi\u001b[0m\u001b[1;33m]\u001b[0m \u001b[1;33m=\u001b[0m \u001b[0memb_vec\u001b[0m\u001b[1;33m\u001b[0m\u001b[1;33m\u001b[0m\u001b[0m\n",
      "\u001b[1;31mNameError\u001b[0m: name 'embedding_dict' is not defined"
     ]
    }
   ],
   "source": [
    "# Applying GloVE representations on our corpus\n",
    "\n",
    "embedding_matrix=np.zeros((num_words,300))\n",
    "\n",
    "for word,i in tokenizer.word_index.items():\n",
    "    if i < num_words:\n",
    "        emb_vec = embedding_dict.get(word)\n",
    "        if emb_vec is not None:\n",
    "            embedding_matrix[i] = emb_vec    \n",
    "            \n",
    "embedding_matrix.shape"
   ]
  },
  {
   "cell_type": "code",
   "execution_count": 23,
   "id": "11ebf0c9",
   "metadata": {},
   "outputs": [],
   "source": [
    "# Setting up the model\n",
    "\n",
    "from keras import layers\n",
    "from keras.models import Sequential\n",
    "\n",
    "def setup_lstm_model(max_len, n_latent_factors):\n",
    "    \n",
    "    model = Sequential()\n",
    "    model.add(layers.Embedding(num_words, n_latent_factors, weights = [embedding_matrix], \n",
    "                               input_length = max_len, trainable = False))\n",
    "    model.add(layers.LSTM(units = max_len, return_sequences = True))\n",
    "    model.add(layers.GlobalAveragePooling1D())\n",
    "    model.add(layers.Dense(units = 1, activation = 'sigmoid'))\n",
    "    \n",
    "    return model"
   ]
  },
  {
   "cell_type": "code",
   "execution_count": 24,
   "id": "45a77fdb",
   "metadata": {},
   "outputs": [
    {
     "name": "stdout",
     "output_type": "stream",
     "text": [
      "Model: \"sequential\"\n",
      "_________________________________________________________________\n",
      "Layer (type)                 Output Shape              Param #   \n",
      "=================================================================\n",
      "embedding (Embedding)        (None, 18, 300)           66469200  \n",
      "_________________________________________________________________\n",
      "lstm (LSTM)                  (None, 18, 18)            22968     \n",
      "_________________________________________________________________\n",
      "global_average_pooling1d (Gl (None, 18)                0         \n",
      "_________________________________________________________________\n",
      "dense (Dense)                (None, 1)                 19        \n",
      "=================================================================\n",
      "Total params: 66,492,187\n",
      "Trainable params: 22,987\n",
      "Non-trainable params: 66,469,200\n",
      "_________________________________________________________________\n"
     ]
    }
   ],
   "source": [
    "lstm_model = setup_lstm_model(max_len = max_len, n_latent_factors = 300)\n",
    "lstm_model.summary()"
   ]
  },
  {
   "cell_type": "code",
   "execution_count": 25,
   "id": "b90d6499",
   "metadata": {},
   "outputs": [
    {
     "name": "stdout",
     "output_type": "stream",
     "text": [
      "Epoch 1/5\n",
      "283/283 [==============================] - 33s 36ms/step - loss: 0.2935 - val_loss: 0.0168\n",
      "Epoch 2/5\n",
      "283/283 [==============================] - 9s 31ms/step - loss: 0.0179 - val_loss: 0.0159\n",
      "Epoch 3/5\n",
      "283/283 [==============================] - 9s 30ms/step - loss: 0.0177 - val_loss: 0.0158\n",
      "Epoch 4/5\n",
      "283/283 [==============================] - 9s 31ms/step - loss: 0.0171 - val_loss: 0.0158\n",
      "Epoch 5/5\n",
      "283/283 [==============================] - 9s 30ms/step - loss: 0.0158 - val_loss: 0.0158\n"
     ]
    },
    {
     "data": {
      "text/plain": [
       "<keras.callbacks.History at 0x14b9dc55550>"
      ]
     },
     "execution_count": 25,
     "metadata": {},
     "output_type": "execute_result"
    }
   ],
   "source": [
    "lstm_model.compile(optimizer = 'adam', loss = 'binary_crossentropy')\n",
    "\n",
    "batch_size = 512\n",
    "epochs = 5\n",
    "\n",
    "lstm_model.fit(X_train_seq, y_train, epochs=epochs, batch_size = batch_size, validation_data = (X_val_seq, y_val))"
   ]
  },
  {
   "cell_type": "code",
   "execution_count": 26,
   "id": "8ebe3448",
   "metadata": {},
   "outputs": [],
   "source": [
    "def setup_gru_model(max_len, n_latent_factors):\n",
    "    \n",
    "    model = Sequential()\n",
    "    model.add(layers.Embedding(num_words, n_latent_factors, weights = [embedding_matrix], \n",
    "                               input_length = max_len, trainable = False))\n",
    "    model.add(layers.GRU(units = max_len, return_sequences = True))\n",
    "    model.add(layers.GlobalAveragePooling1D())\n",
    "    model.add(layers.Dense(units = 1, activation = 'sigmoid'))\n",
    "    \n",
    "    return model"
   ]
  },
  {
   "cell_type": "code",
   "execution_count": 27,
   "id": "e6cba0f0",
   "metadata": {},
   "outputs": [
    {
     "name": "stdout",
     "output_type": "stream",
     "text": [
      "Model: \"sequential_1\"\n",
      "_________________________________________________________________\n",
      "Layer (type)                 Output Shape              Param #   \n",
      "=================================================================\n",
      "embedding_1 (Embedding)      (None, 18, 300)           66469200  \n",
      "_________________________________________________________________\n",
      "gru (GRU)                    (None, 18, 18)            17280     \n",
      "_________________________________________________________________\n",
      "global_average_pooling1d_1 ( (None, 18)                0         \n",
      "_________________________________________________________________\n",
      "dense_1 (Dense)              (None, 1)                 19        \n",
      "=================================================================\n",
      "Total params: 66,486,499\n",
      "Trainable params: 17,299\n",
      "Non-trainable params: 66,469,200\n",
      "_________________________________________________________________\n"
     ]
    }
   ],
   "source": [
    "gru_model = setup_gru_model(max_len = max_len, n_latent_factors = 300)\n",
    "gru_model.summary()"
   ]
  },
  {
   "cell_type": "code",
   "execution_count": 28,
   "id": "b1f82235",
   "metadata": {},
   "outputs": [
    {
     "name": "stdout",
     "output_type": "stream",
     "text": [
      "Epoch 1/5\n",
      "283/283 [==============================] - 12s 31ms/step - loss: 0.3064 - val_loss: 0.0173\n",
      "Epoch 2/5\n",
      "283/283 [==============================] - 8s 29ms/step - loss: 0.0177 - val_loss: 0.0160\n",
      "Epoch 3/5\n",
      "283/283 [==============================] - 8s 28ms/step - loss: 0.0183 - val_loss: 0.0158\n",
      "Epoch 4/5\n",
      "283/283 [==============================] - 8s 29ms/step - loss: 0.0176 - val_loss: 0.0158\n",
      "Epoch 5/5\n",
      "283/283 [==============================] - 8s 29ms/step - loss: 0.0164 - val_loss: 0.0158\n"
     ]
    },
    {
     "data": {
      "text/plain": [
       "<keras.callbacks.History at 0x14b9e1eaf10>"
      ]
     },
     "execution_count": 28,
     "metadata": {},
     "output_type": "execute_result"
    }
   ],
   "source": [
    "# Final hyperparameter configurations and fitting\n",
    "gru_model.compile(optimizer = 'adam', loss = 'binary_crossentropy')\n",
    "\n",
    "batch_size = 512\n",
    "epochs = 5\n",
    "\n",
    "gru_model.fit(X_train_seq, y_train, epochs=epochs, batch_size = batch_size, validation_data = (X_val_seq, y_val))"
   ]
  },
  {
   "cell_type": "code",
   "execution_count": 44,
   "id": "beddda4b",
   "metadata": {},
   "outputs": [
    {
     "name": "stdout",
     "output_type": "stream",
     "text": [
      "[[0.00264752]\n",
      " [0.00264752]\n",
      " [0.00264752]\n",
      " ...\n",
      " [0.00264752]\n",
      " [0.00264764]\n",
      " [0.00264764]]\n"
     ]
    }
   ],
   "source": [
    "prediction = lstm_model.predict(X_test_seq)\n",
    "text = re.sub('\\[[^]]*\\]', '', str(prediction))\n",
    "print(prediction)\n",
    "\n"
   ]
  },
  {
   "cell_type": "code",
   "execution_count": 56,
   "id": "06582acd",
   "metadata": {},
   "outputs": [],
   "source": [
    "pred = []\n",
    "for i in range(len(prediction)):\n",
    "    pred.append(prediction[i][0])\n",
    "    "
   ]
  },
  {
   "cell_type": "code",
   "execution_count": 57,
   "id": "dfc4ef46",
   "metadata": {},
   "outputs": [
    {
     "data": {
      "text/html": [
       "<div>\n",
       "<style scoped>\n",
       "    .dataframe tbody tr th:only-of-type {\n",
       "        vertical-align: middle;\n",
       "    }\n",
       "\n",
       "    .dataframe tbody tr th {\n",
       "        vertical-align: top;\n",
       "    }\n",
       "\n",
       "    .dataframe thead th {\n",
       "        text-align: right;\n",
       "    }\n",
       "</style>\n",
       "<table border=\"1\" class=\"dataframe\">\n",
       "  <thead>\n",
       "    <tr style=\"text-align: right;\">\n",
       "      <th></th>\n",
       "      <th>id</th>\n",
       "      <th>prediction</th>\n",
       "    </tr>\n",
       "  </thead>\n",
       "  <tbody>\n",
       "    <tr>\n",
       "      <th>0</th>\n",
       "      <td>7097320</td>\n",
       "      <td>0.002648</td>\n",
       "    </tr>\n",
       "    <tr>\n",
       "      <th>1</th>\n",
       "      <td>7097321</td>\n",
       "      <td>0.002648</td>\n",
       "    </tr>\n",
       "    <tr>\n",
       "      <th>2</th>\n",
       "      <td>7097322</td>\n",
       "      <td>0.002648</td>\n",
       "    </tr>\n",
       "    <tr>\n",
       "      <th>3</th>\n",
       "      <td>7097323</td>\n",
       "      <td>0.002648</td>\n",
       "    </tr>\n",
       "    <tr>\n",
       "      <th>4</th>\n",
       "      <td>7097324</td>\n",
       "      <td>0.002648</td>\n",
       "    </tr>\n",
       "  </tbody>\n",
       "</table>\n",
       "</div>"
      ],
      "text/plain": [
       "        id  prediction\n",
       "0  7097320    0.002648\n",
       "1  7097321    0.002648\n",
       "2  7097322    0.002648\n",
       "3  7097323    0.002648\n",
       "4  7097324    0.002648"
      ]
     },
     "execution_count": 57,
     "metadata": {},
     "output_type": "execute_result"
    }
   ],
   "source": [
    "\"\"\"\n",
    "submission = pd.DataFrame.from_dict({\n",
    "    'id': test['id'],\n",
    "    'prediction': prediction\n",
    "})\n",
    "\n",
    "\"\"\"\n",
    "list_of_tuples = list(zip(test['id'], pred))\n",
    "   \n",
    "# Assign data to tuples.\n",
    "list_of_tuples \n",
    " \n",
    " \n",
    "# Converting lists of tuples into\n",
    "# pandas Dataframe.\n",
    "submission = pd.DataFrame(list_of_tuples,\n",
    "                  columns = ['id', 'prediction'])\n",
    "    \n",
    "# Print data.\n",
    "submission.to_csv(\"submission.csv\", index=False)\n",
    "\n",
    "submission.head()"
   ]
  },
  {
   "cell_type": "code",
   "execution_count": 58,
   "id": "2bf086fe",
   "metadata": {},
   "outputs": [
    {
     "data": {
      "text/plain": [
       "array([[1863,  953,    9, ...,    0,    0,    0],\n",
       "       [  25,    7, 8486, ...,    0,    0,    0],\n",
       "       [   1, 5514,   19, ..., 3614,    4,  166],\n",
       "       ...,\n",
       "       [  12,  259,   11, ...,    0,    0,    0],\n",
       "       [ 330, 1311, 9408, ..., 1050,    8,    2],\n",
       "       [  12,   96,  441, ...,  936, 9128, 9450]])"
      ]
     },
     "execution_count": 58,
     "metadata": {},
     "output_type": "execute_result"
    }
   ],
   "source": [
    "X_test_seq"
   ]
  },
  {
   "cell_type": "code",
   "execution_count": 59,
   "id": "4dd39665",
   "metadata": {},
   "outputs": [
    {
     "data": {
      "text/plain": [
       "0        7097320\n",
       "1        7097321\n",
       "2        7097322\n",
       "3        7097323\n",
       "4        7097324\n",
       "          ...   \n",
       "97315    7194635\n",
       "97316    7194636\n",
       "97317    7194637\n",
       "97318    7194638\n",
       "97319    7194639\n",
       "Name: id, Length: 97320, dtype: int64"
      ]
     },
     "execution_count": 59,
     "metadata": {},
     "output_type": "execute_result"
    }
   ],
   "source": [
    "test['id']"
   ]
  },
  {
   "cell_type": "code",
   "execution_count": null,
   "id": "fbf2e438",
   "metadata": {},
   "outputs": [],
   "source": []
  }
 ],
 "metadata": {
  "kernelspec": {
   "display_name": "Python 3",
   "language": "python",
   "name": "python3"
  },
  "language_info": {
   "codemirror_mode": {
    "name": "ipython",
    "version": 3
   },
   "file_extension": ".py",
   "mimetype": "text/x-python",
   "name": "python",
   "nbconvert_exporter": "python",
   "pygments_lexer": "ipython3",
   "version": "3.8.8"
  }
 },
 "nbformat": 4,
 "nbformat_minor": 5
}
